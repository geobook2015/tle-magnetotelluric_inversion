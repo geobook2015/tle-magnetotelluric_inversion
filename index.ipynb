{
 "cells": [
  {
   "cell_type": "markdown",
   "metadata": {},
   "source": [
    "# Exploring non-linear inversions: a 1D magnetotelluric example\n",
    "\n",
    "*Seogi Kang, Lindsey Heagy, Rowan Cockett and Doug Oldenburg*\n",
    "\n",
    "There are 5 notebooks in this tutorial - we wrote them starting from discretizing the governing equations for the Magnetotelluric Problem, running a forward simulation and exploring an example of non-uniqueness, and performing the inversion. Although this is a natural order in terms of building the pieces, you do not need to work through them in order, each notebook is self-contained and has links to others where appropriate. \n",
    "\n",
    "- [1_MT1D_NumericalSetup](./1_MT1D_NumericalSetup.ipynb): discretize and solve the 1D MT equations \n",
    "- [2_MT1D_ForwardModellingAndNonuniqueness](./2_MT1D_ForwardModellingAndNonuniqueness.ipynb): run the forward simulation and explore an example of non-uniqueness\n",
    "- [3_MT1D_5layer_inversion](./3_MT1D_5layer_inversion.ipynb): run inversions for a 5 layer model and explore the impacts of choosing a trade-off parameter $\\beta$, and changing the regularization parameters smoothness and smallness ($\\alpha_s$ and $\\alpha_z$). \n",
    "\n",
    "There are also 2 \"appendix\" notebooks\n",
    "- [Appendix_A_MT1D_Sensitivity](./Appendix_A_MT1D_Sensitivity.ipynb): derive and test the sensitivity \n",
    "- [Appendix_B_MT1D_tests](./Appendix_B_MT1D_tests.ipynb): demonstrates how we test the code"
   ]
  },
  {
   "cell_type": "markdown",
   "metadata": {
    "collapsed": true
   },
   "source": [
    "The notebooks require that you have SimPEG installed. If you do not, uncomment and run the following cell to install it. "
   ]
  },
  {
   "cell_type": "code",
   "execution_count": null,
   "metadata": {
    "collapsed": true
   },
   "outputs": [],
   "source": [
    "# !pip install SimPEG\n",
    "# !pip install git+https://github.com/simpeg/tle-magnetotelluric_inversion"
   ]
  }
 ],
 "metadata": {
  "kernelspec": {
   "display_name": "Python 3",
   "language": "python",
   "name": "python3"
  },
  "language_info": {
   "codemirror_mode": {
    "name": "ipython",
    "version": 3
   },
   "file_extension": ".py",
   "mimetype": "text/x-python",
   "name": "python",
   "nbconvert_exporter": "python",
   "pygments_lexer": "ipython3",
   "version": "3.6.6"
  }
 },
 "nbformat": 4,
 "nbformat_minor": 2
}
