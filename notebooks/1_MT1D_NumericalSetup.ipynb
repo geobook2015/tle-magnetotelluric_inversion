{
 "cells": [
  {
   "cell_type": "markdown",
   "metadata": {},
   "source": [
    "**Getting Started**\n",
    "\n",
    "This tutorial relies on standard python packages as well as [SimPEG](http://simpeg.xyz). If you do not have SimPEG installed, you can uncomment the next line and install it from [pypi](https://pypi.python.org/pypi/SimPEG)."
   ]
  },
  {
   "cell_type": "code",
   "execution_count": 4,
   "metadata": {
    "collapsed": true
   },
   "outputs": [],
   "source": [
    "# !pip install SimPEG"
   ]
  },
  {
   "cell_type": "code",
   "execution_count": 5,
   "metadata": {
    "collapsed": true
   },
   "outputs": [],
   "source": [
    "import numpy as np\n",
    "import scipy.sparse as sp\n",
    "from SimPEG import Mesh, Utils, Solver  \n",
    "from scipy.constants import mu_0, epsilon_0\n",
    "import matplotlib.pyplot as plt\n",
    "\n",
    "%matplotlib inline"
   ]
  },
  {
   "cell_type": "markdown",
   "metadata": {},
   "source": [
    "# Numerical simulation of the 1D Magnetotelluric (MT) problem"
   ]
  },
  {
   "cell_type": "markdown",
   "metadata": {},
   "source": [
    "##  Purpose\n",
    "\n",
    "With [SimPEG's](http://simpeg.xyz) mesh class, we discretize Maxwell's equations for a 1D magnetotelluric problem. We then solve for both electric and magnetic fields, and evaluate data at a receing location. There are some milestones to be accomplished:\n",
    "\n",
    "- Introduce differential operators and the terminology used in the SimPEG mesh class\n",
    "\n",
    "- Set up boundary conditions\n",
    "\n",
    "- Set up an linear system $\\mathbf{A}\\mathbf{u} = \\mathbf{rhs}$, compute the fields, $\\mathbf{u}$\n",
    "\n",
    "- Evaluate the data at a receiver location: apparent resistivity and phase\n",
    "\n",
    "- Recognize extensibility of this example to higher dimensions: 2D and 3D"
   ]
  },
  {
   "cell_type": "markdown",
   "metadata": {},
   "source": [
    "## Physics: Maxwell's equations"
   ]
  },
  {
   "cell_type": "markdown",
   "metadata": {},
   "source": [
    "The governing equations for electromagnetic problems are Maxwell's equations. Here, we show them in the frequency domain. For more background on Maxwell's equations, we recommend http://em.geosci.xyz and [Ward & Hohmann, 1988](http://library.seg.org/doi/abs/10.1190/1.9781560802631.ch4).\n",
    "\n",
    "$$\\nabla \\times \\mathbf{E} + \\imath\\omega \\mu \\mathbf{H} = 0 $$\n",
    "\n",
    "$$\\nabla \\times \\mathbf{H} - (\\sigma + \\imath \\omega \\epsilon) \\mathbf{E} = 0$$\n",
    "\n",
    "where\n",
    "\n",
    "- $\\mathbf{E}$ is the electric field (V/m)\n",
    "- $\\mathbf{H}$ is the magnetic field (A/m)\n",
    "- $\\omega = 2\\pi f$ is the angular frequency\n",
    "- $\\mu$ is the magnetic permeability, often taken to be that of free spase ($\\mu_0 = 4\\pi\\times 10^{-7}$ H/m)\n",
    "- $\\sigma$ is the electrical conductivity (S/m). \n",
    "- $\\epsilon$ is the dielectric permittivity, often taken to be that of free space ($\\epsilon = 8.85 \\times 10^{-12}$ F/m)\n",
    "\n",
    "For convienence, we will make the substitution: $\\hat{\\sigma} = \\sigma + \\imath \\omega \\epsilon$ and write Maxwell's equations as\n",
    "\n",
    "$$\\nabla \\times \\mathbf{E} + \\imath\\omega \\mu \\mathbf{H} = 0$$\n",
    "\n",
    "$$\\nabla \\times \\mathbf{H} - \\hat{\\sigma} \\mathbf{E} = 0$$\n",
    "\n",
    "The first equation is [Faraday's Law](http://em.geosci.xyz/content/maxwell1_fundamentals/formative_laws/faraday.html), and the second is [Ampere's Law](http://em.geosci.xyz/content/maxwell1_fundamentals/formative_laws/ampere_maxwell.html)"
   ]
  },
  {
   "cell_type": "markdown",
   "metadata": {},
   "source": [
    "For the Magnetotelluric problem, we are interested in examining Maxwell's equations for a plane wave source. We consider a vertically propagating plane wave. For a 1D earth model, the fields and fluxes are defined by horizontal, orthogonal electric and magnetic fields, so we take\n",
    "\n",
    "$$\\mathbf{E} = E_x\\mathbf{\\hat{x}}$$\n",
    "$$\\mathbf{H} = H_y\\mathbf{\\hat{y}}$$\n",
    "\n",
    "<img src=\"http://em.geosci.xyz/_images/planewavedown1.png\" alt=\"plane_wave\" href=\"http://em.geosci.xyz/content/maxwell1_fundamentals/plane_waves_in_homogeneous_media/index.html\" width=300px>\n",
    "\n",
    "The coordinate system we use is right-handed, and $z$ is positive up. "
   ]
  },
  {
   "cell_type": "markdown",
   "metadata": {},
   "source": [
    "In this case, our governing equations simplify to scalar equations\n",
    "\n",
    "$$ \\frac{\\partial E_x}{\\partial z}  + \\imath \\omega \\mu H_y = 0$$\n",
    "\n",
    "$$-\\frac{\\partial H_y}{\\partial z} +  \\hat{\\sigma} E_x = 0$$\n",
    "\n",
    "with the boundary conditions:\n",
    "\n",
    "$$E_x (z=0) = 1$$\n",
    "\n",
    "$$E_x (z=-\\infty) = 0$$\n",
    "\n",
    "To solve the forward problem, the \n",
    "- **knowns** are: $\\omega$, $\\mu$, $\\hat{\\sigma}$, boundary conditions\n",
    "- **unknowns** are: $E_x$, $H_y$"
   ]
  },
  {
   "cell_type": "markdown",
   "metadata": {},
   "source": [
    "## Discretiation, the Short version. \n",
    "\n",
    "**TL;DR.** Here is the answer. \n",
    "If you want to see the full derivation, checkout <a href=\"#Discretization,-the-Gory-Details.\">The Gory Details</a> \n",
    "\n",
    "\n",
    "We define physical properties at cell centers, and stagger the electric and magnetic fields\n",
    "\n",
    "- $\\sigma$, $\\mu$, $\\epsilon$ : cell centers\n",
    "- $E_x$: cell centers\n",
    "- $H_y$: faces\n",
    "\n",
    "<img src=\"https://github.com/simpeg/tle-magnetotelluric_inversion/raw/master/images/1DMT_discretize.png\" width=200px> \n",
    "\n",
    "and use a finite difference approach to define the operators, this gives us the discrete system of equations\n",
    "\n",
    "$$\n",
    "\\underbrace{\n",
    "    \\begin{bmatrix}\n",
    "        \\mathbf{Grad} & \\imath \\omega \\mathbf{M}^{f}_{\\mu} \\\\[0.3em]\n",
    "        \\mathbf{M}^{cc}_{\\hat{\\sigma}} & \\mathbf{Div}           \\\\[0.3em]\n",
    "    \\end{bmatrix}\n",
    "}_{\\mathbf{A}}\n",
    "\\underbrace{\n",
    "    \\begin{bmatrix}\n",
    "       \\mathbf{e_x} \\\\[0.3em]\n",
    "       \\mathbf{h_y} \\\\[0.3em]\n",
    "    \\end{bmatrix}\n",
    "}_{\\mathbf{u}}\n",
    "=\n",
    "\\underbrace{\n",
    "    \\begin{bmatrix}\n",
    "       - \\mathbf{B}\\mathbf{e_x}^{BC} \\\\[0.3em]\n",
    "       \\boldsymbol{0} \\\\[0.3em]\n",
    "    \\end{bmatrix}\n",
    "}_{\\mathbf{rhs}}\n",
    "$$\n",
    "\n",
    "with \n",
    "\n",
    "- $\\mathbf{e_x}$: Discrete $E_x$, on cell centers $[\\text{nC} \\times 1]$\n",
    "\n",
    "- $\\mathbf{h_y}$: Dicrete $H_x$, on cell faces $[(\\text{nC}+1) \\times 1]$\n",
    "\n",
    "- $ \\mathbf{Grad}$: Discrete gradient operator $[\\text{nC} \\times (\\text{nC}+1)]$\n",
    "\n",
    "- $ \\mathbf{Div}$: Discrete divergence operator $[(\\text{nC}+1) \\times \\text{nC}]$\n",
    "\n",
    "- $\\mathbf{M}^{f}_{\\boldsymbol{\\mu}} = \\mathbf{diag}(\\mathbf{Av^{cc2f}}  \\boldsymbol{\\mu})$ $[(\\text{nC}+1) \\times (\\text{nC}+1)]$\n",
    "\n",
    "- $\\mathbf{M}^{cc}_{\\boldsymbol{\\hat{\\sigma}}} = \\mathbf{diag}(\\boldsymbol{\\hat{\\sigma}})$ $[\\text{nC} \\times \\text{nC}]$\n",
    "\n",
    "- $\\mathbf{B} \\mathbf{e_x}^{BC}$ handles the boundary conditions"
   ]
  },
  {
   "cell_type": "markdown",
   "metadata": {},
   "source": [
    "## Designing a mesh\n",
    "\n",
    "When designing a mesh, we need to ensure that we can capture the physics (what should the thickness of the finest cells be?) and make sure that the boundary is far enough away so that the fields have decayed (how far do we need to go to approximate $\\infty$??). To address these, we look at the [skin depth equation](http://em.geosci.xyz/content/maxwell1_fundamentals/plane_waves_in_homogeneous_media/frequency/analytic_solution.html#attenuation-and-skin-depth), which tells us over what distance we expect electromagnetic fields to have decayed by a factor of $1/e$ in a conductive medium:\n",
    "\n",
    "$$\n",
    "\\delta = \\frac{500}{\\sqrt{\\sigma f}}\n",
    "$$\n",
    "\n",
    "- The finest cells capture the behaviour of the highest frequency near the surface\n",
    "- The mesh needs to extend far enough so that the fields at the lowest frequency have sufficiently decayed"
   ]
  },
  {
   "cell_type": "markdown",
   "metadata": {},
   "source": [
    "Lets start by considering:\n",
    "- a half-space with conductivity $\\sigma = 10^{-2}$ S/m \n",
    "- a maximum frequency of 1000 Hz\n",
    "- a minimum frequency of 0.01 Hz"
   ]
  },
  {
   "cell_type": "code",
   "execution_count": 17,
   "metadata": {
    "collapsed": true
   },
   "outputs": [],
   "source": [
    "sigma_halfspace = 1e-2\n",
    "fmax, fmin = 1e3, 1e-2"
   ]
  },
  {
   "cell_type": "code",
   "execution_count": 18,
   "metadata": {
    "collapsed": true
   },
   "outputs": [],
   "source": [
    "def skin_depth(sigma, f):\n",
    "    return 500./np.sqrt(sigma*f)"
   ]
  },
  {
   "cell_type": "code",
   "execution_count": 19,
   "metadata": {},
   "outputs": [
    {
     "name": "stdout",
     "output_type": "stream",
     "text": [
      "The minimum skin depth is 158.1 m\n",
      "The maximum skin depth is 50000.0 m\n"
     ]
    }
   ],
   "source": [
    "skin_depth_min = skin_depth(sigma_halfspace, fmax)\n",
    "skin_depth_max = skin_depth(sigma_halfspace, fmin)\n",
    "\n",
    "print(\"The minimum skin depth is {:2.1f} m\".format(skin_depth_min))\n",
    "print(\"The maximum skin depth is {:2.1f} m\".format(skin_depth_max))"
   ]
  },
  {
   "cell_type": "markdown",
   "metadata": {},
   "source": [
    "To ensure that we are capturing the physics and have a sufficiently far boundary, we will choose\n",
    "- a minimum cell size of $\\delta_{\\text{min}}/4$\n",
    "- a padding distance that extends to $2 \\delta_{\\text{max}}$"
   ]
  },
  {
   "cell_type": "code",
   "execution_count": 20,
   "metadata": {},
   "outputs": [
    {
     "name": "stdout",
     "output_type": "stream",
     "text": [
      "The smallest cell size should be 39.5 m\n",
      "The mesh should extend 1.0e+05 m\n"
     ]
    }
   ],
   "source": [
    "print(\n",
    "    \"The smallest cell size should be {:2.1f} m\".format(\n",
    "        skin_depth_min / 4.\n",
    "    )\n",
    ")\n",
    "print(\n",
    "    \"The mesh should extend {:1.1e} m\".format(\n",
    "        skin_depth_max * 2.\n",
    "    )\n",
    ")"
   ]
  },
  {
   "cell_type": "markdown",
   "metadata": {},
   "source": [
    "### Set up a mesh\n",
    "\n",
    "Here, we use the [SimPEG Mesh class](http://docs.simpeg.xyz) to set up the mesh, differential operators, and handy properties and methods that handle counting and plotting. "
   ]
  },
  {
   "cell_type": "code",
   "execution_count": 21,
   "metadata": {},
   "outputs": [
    {
     "name": "stdout",
     "output_type": "stream",
     "text": [
      "The mesh extends 1.2e+05m, is that far enough?\n"
     ]
    },
    {
     "data": {
      "image/png": "[encoded data removed]",
      "text/plain": [
       "<matplotlib.figure.Figure at 0x1156e16d0>"
      ]
     },
     "metadata": {},
     "output_type": "display_data"
    }
   ],
   "source": [
    "cs = 39.  # core cell size\n",
    "npad = 25  # number of padding cells\n",
    "ncz = 100   # number of core cells\n",
    "\n",
    "# define a tensor mesh\n",
    "hz = [(cs, npad, -1.3), (cs, ncz)] \n",
    "mesh = Mesh.TensorMesh([hz], x0='N')  # put the origin at the surface \n",
    "\n",
    "# plot the mesh\n",
    "fig, ax = plt.subplots(1,1, figsize=(8, 3))\n",
    "mesh.plotGrid(centers=True, faces=True, ax=ax)\n",
    "ax.legend([\"centers\", \"faces\"])\n",
    "ax.invert_xaxis()  # so that the surface is on our left hand side\n",
    "ax.set_xlabel('z (m)')\n",
    "ax.grid(which=\"both\", linewidth=0.5)\n",
    "\n",
    "print(\n",
    "    \"The mesh extends {:1.1e}m, is that far enough?\".format(\n",
    "        mesh.hx.sum()\n",
    "    )\n",
    ")"
   ]
  },
  {
   "cell_type": "code",
   "execution_count": 22,
   "metadata": {},
   "outputs": [
    {
     "name": "stdout",
     "output_type": "stream",
     "text": [
      "  ---- 1-D TensorMesh ----  \n",
      "   x0: -122984.33\n",
      "  nCx: 125\n",
      "   hx: 27520.00,  21169.23,  16284.02,  12526.17,  9635.52,  7411.94,  5701.49,  4385.76,  3373.66,  2595.12,  1996.25,  1535.58,  1181.21,  908.63,  698.94,  537.65,  413.58,  318.13,  244.72,  188.25,  144.80,  111.39,  85.68,  65.91,  50.70,  100*39.00,\n"
     ]
    }
   ],
   "source": [
    "print(mesh)"
   ]
  },
  {
   "cell_type": "markdown",
   "metadata": {},
   "source": [
    "## Assemble the discrete system of equations"
   ]
  },
  {
   "cell_type": "markdown",
   "metadata": {},
   "source": [
    "#### Model parameters\n",
    "\n",
    "We start with a half space that has physical properties\n",
    "- $\\sigma = 10^{-2}$ S/m\n",
    "- $\\mu = \\mu_0$\n",
    "- $\\epsilon = \\epsilon_0$\n",
    "\n",
    "and define these on the mesh"
   ]
  },
  {
   "cell_type": "code",
   "execution_count": 23,
   "metadata": {},
   "outputs": [
    {
     "name": "stdout",
     "output_type": "stream",
     "text": [
      "There are 125 cell centers. \n",
      " sigma   is 125 elements long, all cells have a value of 1.00e-02 S/m \n",
      " mu      is 125 elements long, all cells have a value of 1.26e-06 H/m \n",
      " epsilon is 125 elements long, all cells have a value of 8.85e-12 F/m \n",
      "\n"
     ]
    }
   ],
   "source": [
    "sigma = np.ones(mesh.nC)*sigma_halfspace # conductivity values for all cells\n",
    "mu = np.ones(mesh.nC)*mu_0 # magnetic permeability values for all cells\n",
    "epsilon = np.ones(mesh.nC)*epsilon_0 # dielectric constant values for all cells\n",
    "\n",
    "print(\n",
    "    \"There are {:1.0f} cell centers. \\n\"\n",
    "    \" sigma   is {:1.0f} elements long, all cells have a value of {:1.2e} S/m \\n\"\n",
    "    \" mu      is {:1.0f} elements long, all cells have a value of {:1.2e} H/m \\n\"\n",
    "    \" epsilon is {:1.0f} elements long, all cells have a value of {:1.2e} F/m \\n\".format(\n",
    "        mesh.nC, \n",
    "        len(sigma), sigma_halfspace,\n",
    "        len(mu), mu_0,\n",
    "        len(epsilon), epsilon_0\n",
    "    )\n",
    ")"
   ]
  },
  {
   "cell_type": "markdown",
   "metadata": {},
   "source": [
    "We will pick a single frequency to work with for now\n",
    "- f = 1000 Hz"
   ]
  },
  {
   "cell_type": "code",
   "execution_count": 24,
   "metadata": {
    "collapsed": true
   },
   "outputs": [],
   "source": [
    "frequency = 1e3 # Frequency (Hz)\n",
    "omega = 2*np.pi*frequency # Angular frequency (rad/s)"
   ]
  },
  {
   "cell_type": "markdown",
   "metadata": {},
   "source": [
    "Here, we will adopt the quasistatic assumption and ignore displacement current $(i \\epsilon \\omega)$. To explore the impacts of this assumption, uncomment the next second line"
   ]
  },
  {
   "cell_type": "code",
   "execution_count": 25,
   "metadata": {
    "collapsed": true
   },
   "outputs": [],
   "source": [
    "sigmahat = sigma  # quasi-static assumption\n",
    "# sigmahat = sigma + 1j*epsilon*omega  # includes displacement current"
   ]
  },
  {
   "cell_type": "markdown",
   "metadata": {},
   "source": [
    "The system we want to solve is\n",
    "$$\n",
    "\\underbrace{\n",
    "    \\begin{bmatrix}\n",
    "        \\mathbf{Grad} & \\imath \\omega \\mathbf{M}^{f}_{\\mu} \\\\[0.3em]\n",
    "        \\mathbf{M}^{cc}_{\\hat{\\sigma}} & \\mathbf{Div}           \\\\[0.3em]\n",
    "    \\end{bmatrix}\n",
    "}_{\\mathbf{A}}\n",
    "\\underbrace{\n",
    "    \\begin{bmatrix}\n",
    "       \\mathbf{e_x} \\\\[0.3em]\n",
    "       \\mathbf{h_y} \\\\[0.3em]\n",
    "    \\end{bmatrix}\n",
    "}_{\\mathbf{u}}\n",
    "=\n",
    "\\underbrace{\n",
    "    \\begin{bmatrix}\n",
    "       - \\mathbf{B}\\mathbf{e_x}^{BC} \\\\[0.3em]\n",
    "       \\boldsymbol{0} \\\\[0.3em]\n",
    "    \\end{bmatrix}\n",
    "}_{\\mathbf{rhs}}\n",
    "$$\n",
    "\n",
    "so we need to construct each of the operators. For details, see: <a href=\"#Discretization,-the-Gory-Details.\">The Gory Details</a> \n",
    "\n",
    "We start by laying our the piece and will then assemble the full matrix system. "
   ]
  },
  {
   "cell_type": "code",
   "execution_count": 26,
   "metadata": {
    "collapsed": true
   },
   "outputs": [],
   "source": [
    "# Grad \n",
    "mesh.setCellGradBC([['dirichlet', 'dirichlet']]) # Setup boundary conditions\n",
    "Grad = mesh.cellGrad # Gradient matrix\n",
    "\n",
    "# MfMu\n",
    "Mmu = Utils.sdiag(mesh.aveCC2F * mu) \n",
    "\n",
    "# Mccsigma\n",
    "Msighat = Utils.sdiag(sigmahat) \n",
    "\n",
    "# Div\n",
    "Div = mesh.faceDiv # Divergence matrix\n",
    "\n",
    "# Right Hand Side\n",
    "B = mesh.cellGradBC  # a matrix for boundary conditions\n",
    "Exbc = np.r_[0., 1.] # boundary values for Ex"
   ]
  },
  {
   "cell_type": "code",
   "execution_count": 27,
   "metadata": {
    "collapsed": true
   },
   "outputs": [],
   "source": [
    "# Assemble the matrix\n",
    "\n",
    "# A-matrix\n",
    "A = sp.vstack([\n",
    "    sp.hstack([Grad, 1j*omega*Mmu]), # Top row of A matrix\n",
    "    sp.hstack((Msighat, Div)) # Bottom row of A matrix\n",
    "])\n",
    "\n",
    "# Right-hand side\n",
    "rhs = np.r_[\n",
    "    -B*Exbc, \n",
    "    np.zeros(mesh.nC)\n",
    "] "
   ]
  },
  {
   "cell_type": "markdown",
   "metadata": {},
   "source": [
    "Now that we have all of the pieces, we can go ahead and solve the MT system"
   ]
  },
  {
   "cell_type": "code",
   "execution_count": 28,
   "metadata": {},
   "outputs": [
    {
     "name": "stdout",
     "output_type": "stream",
     "text": [
      "CPU times: user 2.97 ms, sys: 3.19 ms, total: 6.16 ms\n",
      "Wall time: 20 ms\n"
     ]
    }
   ],
   "source": [
    "%%time\n",
    "Ainv = Solver(A) # Factorize A matrix\n",
    "sol = Ainv*rhs   # Solve A^-1 rhs = sol\n",
    "Ex = sol[:mesh.nC] # Extract Ex from solution vector u\n",
    "Hy = sol[mesh.nC:mesh.nC+mesh.nN] # Extract Hy from solution vector u"
   ]
  },
  {
   "cell_type": "markdown",
   "metadata": {},
   "source": [
    "## Impedance, Apparent Resistivity, and Phase\n",
    "\n",
    "MT data are natural source data, meaning that the source is free! but we don't know its amplitude. To account for this, the data we examine are typically transfer functions that involve ratios of the electric and magnetic fields. For the 1D problem, the Impedance is simply given by\n",
    "\n",
    "$$\n",
    "Z_{xy} = - \\frac{E_x}{H_y}\n",
    "$$\n",
    "\n",
    "(The negative is because we have defined a coordinate system such that z is positive up) \n",
    "\n",
    "$Z_{xy}$ is a complex number, so we can look at real and imaginary components or amplitude and phase. \n"
   ]
  },
  {
   "cell_type": "code",
   "execution_count": 29,
   "metadata": {},
   "outputs": [
    {
     "name": "stdout",
     "output_type": "stream",
     "text": [
      "Impedance: 6.2e-01 + 6.4e-01i\n",
      "or in terms of Amplidude: 8.9e-01 and phase: 45.9 degrees\n"
     ]
    }
   ],
   "source": [
    "Zxy = - 1./Hy[-1] # Impedance at the surface\n",
    "\n",
    "print(\"Impedance: {:1.1e} + {:1.1e}i\".format(Zxy.real, Zxy.imag))\n",
    "print(\"or in terms of Amplidude: {:1.1e} and phase: {:1.1f} degrees\".format(\n",
    "    np.absolute(Zxy), np.rad2deg(np.arctan(Zxy.imag / Zxy.real)))\n",
    ")"
   ]
  },
  {
   "cell_type": "markdown",
   "metadata": {},
   "source": [
    "Often is useful to translate the impedance to an apparent resistivity ($\\rho_a$) and phase. \n",
    "\n",
    "$$\n",
    "\\rho_a = \\frac{1}{\\mu_0\\omega} \\big|Z_{xy}\\big|^2\n",
    "$$\n",
    "\n",
    "$$\n",
    "\\phi = \\tan^{-1}\\left(\\frac{\\text{Im}(Z_{xy})}{\\text{Re}(Z_{xy})}\\right)\n",
    "$$\n",
    "\n",
    "For a  half-space, we expect the apparent resistivity to equal the true resistivity, and the phase to be $45^\\circ$"
   ]
  },
  {
   "cell_type": "code",
   "execution_count": 30,
   "metadata": {},
   "outputs": [
    {
     "name": "stdout",
     "output_type": "stream",
     "text": [
      "Apparent Resistivity: 100.0, Phase: 45.9\n"
     ]
    }
   ],
   "source": [
    "app_res = abs(Zxy)**2 / (mu_0*omega)\n",
    "app_phase = np.rad2deg(np.arctan(Zxy.imag / Zxy.real))\n",
    "\n",
    "print(\n",
    "    \"Apparent Resistivity: {:1.1f}, Phase: {:1.1f}\".format(\n",
    "        app_res, app_phase\n",
    "    )\n",
    ")"
   ]
  },
  {
   "cell_type": "code",
   "execution_count": 31,
   "metadata": {},
   "outputs": [
    {
     "name": "stdout",
     "output_type": "stream",
     "text": [
      "Note that the apparent resistivity, 100.0 is the same as the true half-space 100.0\n"
     ]
    }
   ],
   "source": [
    "print(\n",
    "    \"Note that the apparent resistivity, {:1.1f} \"\n",
    "    \"is the same as the true half-space {:1.1f}\".format(\n",
    "        app_res,\n",
    "        1./sigma_halfspace  \n",
    "    )\n",
    ")"
   ]
  },
  {
   "cell_type": "markdown",
   "metadata": {},
   "source": [
    "## Put it all together\n",
    "\n",
    "Here, we define a function that performs an MT simulation so that we can readily compute the Magnetotelluric response at multiple frequencies and for a variety of models. We write this function to the file MTsimulation.py so that we can import it and use it in later notebooks. Uncomment the first three lines to write out the file again. "
   ]
  },
  {
   "cell_type": "code",
   "execution_count": 32,
   "metadata": {
    "collapsed": true
   },
   "outputs": [],
   "source": [
    "# %%writefile MTforward.py\n",
    "# import numpy as np\n",
    "# import scipy.sparse as sp\n",
    "# from scipy.constants import mu_0\n",
    "# from SimPEG import Utils, Solver\n",
    "\n",
    "\n",
    "def simulateMT(mesh, sigma, frequency, rtype=\"app_res\"):\n",
    "    \"\"\"\n",
    "       Compute apparent resistivity and phase at each frequency. \n",
    "       Return apparent resistivity and phase for rtype=\"app_res\",\n",
    "       or impedance for rtype=\"impedance\" \n",
    "    \"\"\"\n",
    "    \n",
    "    # Angular frequency (rad/s)\n",
    "    def omega(freq):\n",
    "        return 2*np.pi*freq\n",
    "    \n",
    "    # make sure we are working with numpy arrays\n",
    "    if type(frequency) is float:\n",
    "        frequency = np.r_[frequency]  # make it a list to loop over later if it is just a scalar\n",
    "    elif type(frequency) is list: \n",
    "        frequency = np.array(frequency)\n",
    "    \n",
    "    # Frequency independent pieces of the A matrix\n",
    "    # Grad \n",
    "    mesh.setCellGradBC([['dirichlet', 'dirichlet']]) # Setup boundary conditions\n",
    "    Grad = mesh.cellGrad # Gradient matrix\n",
    "\n",
    "    # MfMu\n",
    "    mu = np.ones(mesh.nC)*mu_0 # magnetic permeability values for all cells\n",
    "    Mmu = Utils.sdiag(mesh.aveCC2F * mu) \n",
    "\n",
    "    # Mccsigma\n",
    "    sigmahat = sigma  # quasi-static assumption\n",
    "    Msighat = Utils.sdiag(sigmahat) \n",
    "\n",
    "    # Div\n",
    "    Div = mesh.faceDiv # Divergence matrix\n",
    "\n",
    "    # Right Hand Side\n",
    "    B = mesh.cellGradBC  # a matrix for boundary conditions\n",
    "    Exbc = np.r_[0., 1.] # boundary values for Ex\n",
    "    \n",
    "    # Right-hand side\n",
    "    rhs = np.r_[\n",
    "        -B*Exbc, \n",
    "        np.zeros(mesh.nC)\n",
    "    ] \n",
    "    \n",
    "    # loop over frequencies \n",
    "    Zxy = []\n",
    "    for freq in frequency: \n",
    "\n",
    "        # A-matrix\n",
    "        A = sp.vstack([\n",
    "            sp.hstack([Grad, 1j*omega(freq)*Mmu]), # Top row of A matrix\n",
    "            sp.hstack((Msighat, Div)) # Bottom row of A matrix\n",
    "        ])\n",
    "    \n",
    "        Ainv = Solver(A) # Factorize A matrix\n",
    "        sol = Ainv*rhs   # Solve A^-1 rhs = sol\n",
    "        Ex = sol[:mesh.nC] # Extract Ex from solution vector u\n",
    "        Hy = sol[mesh.nC:mesh.nC+mesh.nN] # Extract Hy from solution vector u\n",
    "\n",
    "        Zxy.append(- 1./Hy[-1]) # Impedance at the surface\n",
    "    \n",
    "    # turn it into an array\n",
    "    Zxy = np.array(Zxy)\n",
    "\n",
    "    # return impedance or apparent resistivity and phase \n",
    "    if rtype.lower() == \"impedance\":\n",
    "        return Zxy\n",
    "\n",
    "    elif rtype.lower() == \"app_res\":\n",
    "        app_res = abs(Zxy)**2 / (mu_0*omega(frequency))\n",
    "        app_phase = np.rad2deg(np.arctan(Zxy.imag / Zxy.real))\n",
    "        return app_res, app_phase\n",
    "    \n",
    "    else:\n",
    "        raise Exception, \"rtype must be 'impedance' or 'app_res', not {}\".format(rtype.lower())"
   ]
  },
  {
   "cell_type": "code",
   "execution_count": 33,
   "metadata": {},
   "outputs": [
    {
     "name": "stdout",
     "output_type": "stream",
     "text": [
      "CPU times: user 86.1 ms, sys: 2.2 ms, total: 88.3 ms\n",
      "Wall time: 93.7 ms\n"
     ]
    }
   ],
   "source": [
    "%%time \n",
    "\n",
    "# Run the simulation over 25 frequencies from 1e-3 Hz to 100 Hz\n",
    "frequencies = np.logspace(-2, 3, 25)\n",
    "\n",
    "# for freq in frequencies:\n",
    "app_res, phase = simulateMT(mesh, sigma, frequencies)"
   ]
  },
  {
   "cell_type": "markdown",
   "metadata": {},
   "source": [
    "For a half-space, the apparent resistivity should equal the true resistivity and the phase should be $45^\\circ$. How did we do??"
   ]
  },
  {
   "cell_type": "code",
   "execution_count": 34,
   "metadata": {},
   "outputs": [
    {
     "data": {
      "image/png": "[encoded data removed]",
      "text/plain": [
       "<matplotlib.figure.Figure at 0x11799b6d0>"
      ]
     },
     "metadata": {},
     "output_type": "display_data"
    }
   ],
   "source": [
    "fig, ax = plt.subplots(2, 1, figsize=(8, 3*2))\n",
    "\n",
    "# plot apparent resistivity\n",
    "ax[0].loglog(frequencies, app_res, lw=2)\n",
    "ax[0].set_ylim(1./sigma_halfspace*np.r_[0.1, 10])\n",
    "ax[0].set_ylabel(\"$ \\\\rho_a (\\Omega$-m)\", fontsize=14)\n",
    "\n",
    "# plot phase\n",
    "ax[1].semilogx(frequencies, phase, lw=2)\n",
    "ax[1].set_ylim(np.r_[0., 90.])\n",
    "ax[1].grid(which=\"both\", linewidth=0.4)\n",
    "\n",
    "ax[1].set_xlabel(\"frequency (Hz)\", fontsize=14)\n",
    "ax[1].set_ylabel(\"$\\phi (^\\circ)$\", fontsize=14)\n",
    "\n",
    "for a in ax:\n",
    "    a.invert_xaxis()  # highest frequencies see the near surface, lower frequencies see deeper\n",
    "    a.set_xlabel(\"frequency (Hz)\", fontsize=14)\n",
    "    a.grid(which=\"both\", linewidth=0.4)\n",
    "\n",
    "\n",
    "plt.tight_layout()"
   ]
  },
  {
   "cell_type": "markdown",
   "metadata": {},
   "source": [
    "# Discretization, the Gory Details. \n",
    "\n",
    "If you want to skip this section, we won't judge! "
   ]
  },
  {
   "cell_type": "markdown",
   "metadata": {},
   "source": [
    "To numerically solve Maxwell's equations, we need to first discretize them so they are represented on a mesh. We will take a finite difference approach for this example.\n",
    "\n",
    "Since we are solving for a 1D model, we will use a 1D mesh and leverage the Mesh class in SimPEG to build the operators (see http://docs.simpeg.xyz for docs). \n",
    "\n",
    "We show a very small mesh in the derivation so that it is meaningful to print out the matrices. When we go to solve, we will use a larger mesh."
   ]
  },
  {
   "cell_type": "code",
   "execution_count": 35,
   "metadata": {},
   "outputs": [
    {
     "name": "stdout",
     "output_type": "stream",
     "text": [
      "This mesh has 4 cells and 5 faces. Each cell is 1.0m wide\n"
     ]
    }
   ],
   "source": [
    "cell_size = 1. # width of the cell in meters\n",
    "ncells = 4  # number of cells that make up our domain\n",
    "\n",
    "# define a Tensor Mesh\n",
    "dz = [(cell_size, ncells)]\n",
    "mesh = Mesh.TensorMesh([dz], x0='N')\n",
    "\n",
    "print(\n",
    "    \"This mesh has {nC} cells and {nF} faces. \"\n",
    "    \"Each cell is {h}m wide\".format(\n",
    "        nC=mesh.nC, nF=mesh.nF, h=mesh.hx.min()  # it is hx because SimPEG treats dimensions in the order (x, y, z), so if the mesh is 1D, we work with the first component\n",
    "    )\n",
    ")"
   ]
  },
  {
   "cell_type": "markdown",
   "metadata": {},
   "source": [
    "There are two places where we can discretize variables on a 1D mesh for the electromagnetic problem: cell centers and cell faces. "
   ]
  },
  {
   "cell_type": "code",
   "execution_count": 36,
   "metadata": {},
   "outputs": [
    {
     "data": {
      "text/plain": [
       "<matplotlib.legend.Legend at 0x117dff4d0>"
      ]
     },
     "execution_count": 36,
     "metadata": {},
     "output_type": "execute_result"
    },
    {
     "data": {
      "image/png": "[encoded data removed]",
      "text/plain": [
       "<matplotlib.figure.Figure at 0x1156cff10>"
      ]
     },
     "metadata": {},
     "output_type": "display_data"
    }
   ],
   "source": [
    "fig, ax = plt.subplots(1,1, figsize=(8,3))\n",
    "\n",
    "mesh.plotGrid(centers=True, faces=True, ax=ax)\n",
    "ax.invert_xaxis()  # put the surface of the earth on the left. \n",
    "ax.set_xlabel('z (m)')\n",
    "ax.grid(which=\"both\", linewidth=0.4)\n",
    "plt.legend((\"centers\", \"faces\"))"
   ]
  },
  {
   "cell_type": "markdown",
   "metadata": {},
   "source": [
    "To count, we will use \n",
    "$$\n",
    "i = 0, 1, 2, ..., N\n",
    "$$\n",
    "to denote cell centers, so faces are at $i \\pm 1/2$.\n",
    "\n",
    "To discretize our system of equations, we put the physical properties, $\\sigma$, $\\mu$, $\\epsilon$ at cell centers and stagger the electric and magnetic fields so that $E_x$ is on cell centers and $H_y$ is at cell faces.\n",
    "\n",
    "Our physical properties are described by the discrete vectors\n",
    "\n",
    "$$\n",
    "\\boldsymbol{\\sigma} = [\\sigma_0, \\sigma_1, \\sigma_2, ..., \\sigma_N]^\\top\n",
    "$$\n",
    "$$\n",
    "\\boldsymbol{\\mu} = [\\mu_0, \\mu_1, \\mu_2, ..., \\mu_N]^\\top\n",
    "$$\n",
    "$$\n",
    "\\boldsymbol{\\epsilon} = [\\epsilon_0, \\epsilon_1, \\epsilon_2, ..., \\epsilon_N]^\\top\n",
    "$$\n",
    "\n",
    "and \n",
    "$$\n",
    "\\boldsymbol{\\hat{\\sigma}} = \\boldsymbol{\\sigma} + \\imath \\omega \\boldsymbol{\\epsilon}\n",
    "$$\n",
    " \n",
    "is also defined at cell centers. \n",
    "\n",
    "Our fields are described by the discrete vectors\n",
    "$$\n",
    "\\mathbf{e_x} = [e_0, e_1, e_2, ..., e_N]^\\top\n",
    "$$\n",
    "\n",
    "$$\n",
    "\\mathbf{h_y} = [h_{-1/2}, h_{1/2}, h_{1+1/2}, h_{2+1/2}, ..., h_{N+1/2}]^\\top\n",
    "$$"
   ]
  },
  {
   "cell_type": "markdown",
   "metadata": {},
   "source": [
    "### Discretizing Ampere's law\n",
    "\n",
    "Lets start by exmining Ampere's law (the second equation), \n",
    "\n",
    "$$-\\frac{\\partial H_y}{\\partial z} +  \\hat{\\sigma} E_x = 0$$\n",
    "\n",
    "To approximate the derivative of $H_y$ (which is defined on faces) with respect to $z$, we use centered differences, so \n",
    "\n",
    "$$\n",
    "\\frac{\\partial H_y}{\\partial z} \\bigg\\rvert_i \\simeq \\frac{h_{i+1/2} - h_{i-1/2}}{\\Delta z_i}\n",
    "$$\n",
    "\n",
    "where $\\Delta z_i$ is the width of the cell, and the approximation of the derivative lands on the cell center. We repeat this operation for each cell in our mesh. You could do this in a for loop, but it is often benificial to work with the matrix form, so we will do that here. \n",
    "\n",
    "The differential operator matrix that takes the derivative of a variable defined on faces is the face divergence operator.\n",
    "\n",
    "$$\n",
    "\\frac{\\partial H_y}{\\partial z} \\simeq \\mathbf{Div} ~\\mathbf{h_y}\n",
    "$$"
   ]
  },
  {
   "cell_type": "code",
   "execution_count": 37,
   "metadata": {},
   "outputs": [
    {
     "name": "stdout",
     "output_type": "stream",
     "text": [
      "[[-1.  1.  0.  0.  0.]\n",
      " [ 0. -1.  1.  0.  0.]\n",
      " [ 0.  0. -1.  1.  0.]\n",
      " [ 0.  0.  0. -1.  1.]]\n"
     ]
    }
   ],
   "source": [
    "Div = mesh.faceDiv\n",
    "print(Div.todense())  # operators are stored as sparse matrices in SimPEG"
   ]
  },
  {
   "cell_type": "markdown",
   "metadata": {},
   "source": [
    "Since the physical properties $\\boldsymbol{\\hat{\\sigma}}$ is defined at cell centers which is in the same location as $E_x$, we can simply multiply them. In matrix form, we use a diagonal matrix, \n",
    "\n",
    "$$\\mathbf{M^{cc}_{\\boldsymbol{\\hat{\\sigma}}}} = \\mathbf{diag}(\\boldsymbol{\\hat{\\sigma}})$$ \n",
    "\n",
    "so the product is given by\n",
    "\n",
    "$$\n",
    "\\hat{\\sigma} E_x \\simeq \\mathbf{M^{cc}_{\\boldsymbol{\\hat{\\sigma}}}} ~\\mathbf{e_x}\n",
    "$$\n",
    "\n",
    "in the example that follows, we will assume that $\\sigma \\gg \\imath \\omega \\epsilon$, so $\\hat{\\sigma} \\simeq \\sigma$. In the more general implementation later on in the tutorial, we will use the full definition of $\\hat{\\sigma}$ "
   ]
  },
  {
   "cell_type": "code",
   "execution_count": 38,
   "metadata": {},
   "outputs": [
    {
     "name": "stdout",
     "output_type": "stream",
     "text": [
      "[[ 0.1  0.   0.   0. ]\n",
      " [ 0.   0.1  0.   0. ]\n",
      " [ 0.   0.   0.1  0. ]\n",
      " [ 0.   0.   0.   0.1]]\n"
     ]
    }
   ],
   "source": [
    "sigma = 1e-1 * np.ones(mesh.nC)\n",
    "Mcc_sigma = Utils.sdiag(sigma)\n",
    "print(Mcc_sigma.todense())"
   ]
  },
  {
   "cell_type": "markdown",
   "metadata": {},
   "source": [
    "So we have taken\n",
    "\n",
    "$$-\\frac{\\partial H_y}{\\partial z} +  \\hat{\\sigma} E_x = 0$$\n",
    "\n",
    "and discretized to \n",
    "\n",
    "$$\n",
    "- \\mathbf{Div} ~ \\mathbf{h_y} + \\mathbf{M^{cc}_{\\boldsymbol{\\hat{\\sigma}}}} ~ \\mathbf{e_x} = \\mathbf{0}\n",
    "$$"
   ]
  },
  {
   "cell_type": "markdown",
   "metadata": {},
   "source": [
    "### Discretizing Faraday's Law\n",
    "\n",
    "Next, we examine Faraday's law:\n",
    "\n",
    "$$\n",
    "\\frac{\\partial E_x}{\\partial z}  + \\imath \\omega \\mu H_y = 0\n",
    "$$\n",
    "\n",
    "Over one cell, the discrete approximation of the derivative of $E_x$ with respect to $z$ is\n",
    "\n",
    "$$\n",
    "\\frac{\\partial E_x}{\\partial z}\\bigg\\rvert_{i+1/2} = \\frac{e_{i+1} - e_{i}}{\\Delta z_{i+1/2}}\n",
    "$$\n",
    "\n",
    "where $\\Delta z_{1+1/2}$ is the distance (m) from the cell center $z_{i}$ to $z_{i+1}$. Notice here that we are going from cell centers to cell faces. So in this case we need to handle the boundary conditions, what do we do at \n",
    "the top and the bottom:\n",
    "$$\n",
    "\\frac{\\partial E_x}{\\partial z}\\bigg\\rvert_{-1/2}, \\quad\n",
    "\\frac{\\partial E_x}{\\partial z}\\bigg\\rvert_{nC+1/2} \n",
    "$$\n",
    "\n",
    "we somehow need to define \"ghost points\" $e_{-1}$ and $e_{N+1}$ so that we can solve  \n",
    "\n",
    "$$\n",
    "\\frac{\\partial E_x}{\\partial z}\\bigg\\rvert_{-1/2} = \\frac{e_{0} - e_{-1}}{\\Delta z_{-1/2}}\n",
    "$$\n",
    "\n",
    "and\n",
    "\n",
    "$$\n",
    "\\frac{\\partial E_x}{\\partial z}\\bigg\\rvert_{N+1/2} = \\frac{e_{N+1} - e_{N}}{\\Delta z_{N+1/2}}\n",
    "$$\n",
    "\n",
    "#### Boundary Conditions\n",
    "\n",
    "Lets start with the bottom boundary - we know that MT fields and fluxes are diffusive and decay as they travel through conductive media, so if our boundary is sufficiently far away\n",
    "\n",
    "$$E_x (z=-\\infty) = 0$$\n",
    "\n",
    "Clearly we can't discretize to infinity... but we know approximately how quickly the fields decay, this is captured by the skin depth\n",
    "\n",
    "$$\n",
    "\\delta \\simeq \\frac{500}{\\sqrt{\\sigma f}}\n",
    "$$\n",
    "\n",
    "So as long as we define our mesh such that we are a few skin depths from the surface, then we can safely assume that the fields will have decayed to zero (dirichlet boundary condition). In our discrete world, this means that we want to enforce\n",
    "\n",
    "$$\n",
    "E_x \\big|_{nC+{1/2}} = 0\n",
    "$$\n",
    "\n",
    "The elements of $e$ are defined on cell centers and our boundary is a face, so we choose our ghost point $e_N$ such that when we average across the boundary, the average is 0, eg\n",
    "\n",
    "$$\n",
    "\\frac{1}{2} (e_{N-1} + e_{N}) = 0\n",
    "$$\n",
    "\n",
    "which means\n",
    "\n",
    "$$\n",
    "e_N = - e_{N-1}\n",
    "$$\n",
    "\n",
    "and our discrete approximation of the derivative at this boundary is\n",
    "\n",
    "$$\n",
    "\\frac{\\partial E_x}{\\partial z}\\bigg\\rvert_{N+1/2} = \\frac{e_{N+1} - e_{N}}{\\Delta z_{N+1/2}} = \\frac{-2 e_{N}}{\\Delta z_{N+1/2}}\n",
    "$$\n",
    "\n",
    "At the top boundary is where our incoming plane wave is, so we specify an electric field at the surface of \n",
    "\n",
    "$$E_x (z=0) = 1$$\n",
    "\n",
    "So this means we want to define our ghost point $e_{-1}$ such that\n",
    "\n",
    "$$\n",
    "\\frac{1}{2}(e_{-1} + e_0) = 1\n",
    "$$\n",
    "\n",
    "or \n",
    "\n",
    "$$\n",
    "(e_{-1}) = 2 - e_0\n",
    "$$\n",
    "\n",
    "and the derivative is \n",
    "\n",
    "$$\n",
    "\\frac{\\partial E_x}{\\partial z}\\bigg\\rvert_{-1/2} = \\frac{e_{0} - e_{-1}}{\\Delta z_{-1/2}} = \\underbrace{\\frac{2 e_{0}}{\\Delta z_{-1/2}}}_{\\text{due to dirichlet BC}} - \\underbrace{\\frac{2}{\\Delta z_{-1/2}}}_{\\text{due to non-homogeneous BC}}\n",
    "$$\n",
    "\n",
    "For conveienence, when we discretize, we first employ dirichlet boundary conditions on each boundary, and add the second term, due to a non-homogeneous boundary condition. \n",
    "\n",
    "The differential operator matrix that takes the derivative of a variable defined on faces is the cell gradient operator, so the discrete derivative of $E_x$ is given by\n",
    "$$\n",
    "\\frac{\\partial E_x}{\\partial z} \\simeq \\mathbf{Grad} ~ \\mathbf{e_x} + \\mathbf{B} ~ \\mathbf{e_x}^{BC}\n",
    "$$ \n",
    "\n",
    "where $\\mathbf{Grad}$ includes dirichlet boundary conditions, and $\\mathbf{B}$ is a $\\text{nC}\\times2$ matrix that accounts for the non-homogeneous boundary conditions"
   ]
  },
  {
   "cell_type": "code",
   "execution_count": 39,
   "metadata": {},
   "outputs": [
    {
     "name": "stdout",
     "output_type": "stream",
     "text": [
      "[[ 2.  0.  0.  0.]\n",
      " [-1.  1.  0.  0.]\n",
      " [ 0. -1.  1.  0.]\n",
      " [ 0.  0. -1.  1.]\n",
      " [ 0.  0.  0. -2.]]\n"
     ]
    }
   ],
   "source": [
    "# Grad matrix with dirichlet boundary conditions\n",
    "mesh.setCellGradBC([['dirichlet', 'dirichlet']]) # set the boundary conditions\n",
    "Grad = mesh.cellGrad\n",
    "print(Grad.todense())"
   ]
  },
  {
   "cell_type": "code",
   "execution_count": 40,
   "metadata": {},
   "outputs": [
    {
     "name": "stdout",
     "output_type": "stream",
     "text": [
      "[[-2.  0.]\n",
      " [ 0.  0.]\n",
      " [ 0.  0.]\n",
      " [ 0.  0.]\n",
      " [ 0.  2.]]\n"
     ]
    }
   ],
   "source": [
    "# deal with the boundary conditions\n",
    "ex_bc = np.r_[0., 1.] # bottom boundary, fields decay to zero, top is source\n",
    "B = mesh.cellGradBC  # a matrix for boundary conditions\n",
    "print(B.todense())"
   ]
  },
  {
   "cell_type": "code",
   "execution_count": 41,
   "metadata": {},
   "outputs": [
    {
     "name": "stdout",
     "output_type": "stream",
     "text": [
      "[ 0.  0.  0.  0.  2.]\n"
     ]
    }
   ],
   "source": [
    "# B * e_BC describes what we need to add to Grad e in order to addount for \n",
    "# the boundary conditions\n",
    "print(B*ex_bc)"
   ]
  },
  {
   "cell_type": "markdown",
   "metadata": {},
   "source": [
    "The last piece we need to define is how to take the product $\\imath \\omega \\mu H_y$. $\\imath$ and $\\omega$ are scalars, so they are easy. The tricky part is $\\mu H_y$ since $\\mathbf{\\mu}$ is defined at cell centers (there are $\\text{nC}$ of them) and $\\mathbf{h}$ is at faces (there are $\\text{nC+1}$ of them). So to take this product, we will average the magnetic permeability to faces, and again stick it in a diagonal matrix \n",
    "\n",
    "$$\\mathbf{M^{f}_{\\mu}} = \\mathbf{diag}(\\mathbf{Av^{cc2f} \\mathbf{\\mu}})$$\n",
    "\n",
    "so the product is then\n",
    "\n",
    "$$\n",
    "\\imath\\omega\\mu H_y \\simeq \\imath\\omega\\mathbf{M^{f}_{\\mu}} ~\\mathbf{h_y}\n",
    "$$"
   ]
  },
  {
   "cell_type": "code",
   "execution_count": 42,
   "metadata": {},
   "outputs": [
    {
     "name": "stdout",
     "output_type": "stream",
     "text": [
      "[[ 1.   0.   0.   0. ]\n",
      " [ 0.5  0.5  0.   0. ]\n",
      " [ 0.   0.5  0.5  0. ]\n",
      " [ 0.   0.   0.5  0.5]\n",
      " [ 0.   0.   0.   1. ]]\n"
     ]
    }
   ],
   "source": [
    "# Averaging matrix\n",
    "AvCC2F = mesh.aveCC2F\n",
    "print(AvCC2F.todense())"
   ]
  },
  {
   "cell_type": "code",
   "execution_count": 43,
   "metadata": {},
   "outputs": [
    {
     "name": "stdout",
     "output_type": "stream",
     "text": [
      "[[  1.25663706e-06   0.00000000e+00   0.00000000e+00   0.00000000e+00\n",
      "    0.00000000e+00]\n",
      " [  0.00000000e+00   1.25663706e-06   0.00000000e+00   0.00000000e+00\n",
      "    0.00000000e+00]\n",
      " [  0.00000000e+00   0.00000000e+00   1.25663706e-06   0.00000000e+00\n",
      "    0.00000000e+00]\n",
      " [  0.00000000e+00   0.00000000e+00   0.00000000e+00   1.25663706e-06\n",
      "    0.00000000e+00]\n",
      " [  0.00000000e+00   0.00000000e+00   0.00000000e+00   0.00000000e+00\n",
      "    1.25663706e-06]]\n"
     ]
    }
   ],
   "source": [
    "mu = mu_0*np.ones(mesh.nC)\n",
    "Mfmu = Utils.sdiag(AvCC2F * mu)\n",
    "print(Mfmu.todense())"
   ]
  },
  {
   "cell_type": "markdown",
   "metadata": {},
   "source": [
    "So we have taken Faraday's law\n",
    "\n",
    "$$\n",
    "\\frac{\\partial E_x}{\\partial z}  + \\imath \\omega \\mu H_y = 0\n",
    "$$\n",
    "\n",
    "and arrived at the discrete system\n",
    "\n",
    "$$\n",
    "\\mathbf{Grad} ~ \\mathbf{e_x} + \\mathbf{B} ~ \\mathbf{e_x}^{BC} + \\imath\\omega \\mathbf{M^f_\\mu} \\mathbf{h_y} = 0\n",
    "$$\n",
    "\n",
    "since the boundary conditions are known, we can move them to the right hand side\n",
    "\n",
    "$$\n",
    "\\mathbf{Grad} ~ \\mathbf{e_x}  + \\imath\\omega \\mathbf{M^f_\\mu} \\mathbf{h_y} = - \\mathbf{B} ~ \\mathbf{e_x}^{BC}\n",
    "$$"
   ]
  },
  {
   "cell_type": "markdown",
   "metadata": {},
   "source": [
    "### Two equations, Two unknowns\n",
    "\n",
    "Our discrete Maxwell system is \n",
    "\n",
    "$$\n",
    "\\mathbf{Grad} ~ \\mathbf{e_x}  + \\imath\\omega \\mathbf{M^f_\\mu} \\mathbf{h_y} = - \\mathbf{B} ~ \\mathbf{e_x}^{BC}\n",
    "$$\n",
    "\n",
    "$$\n",
    "- \\mathbf{Div} ~ \\mathbf{h_y} + \\mathbf{M^{cc}_{\\boldsymbol{\\hat{\\sigma}}}} ~ \\mathbf{e_x} = \\mathbf{0}\n",
    "$$\n",
    "\n",
    "For convienence, lets re-arrage... \n",
    "$$\n",
    "\\mathbf{Grad} ~ \\mathbf{e_x}  + \\imath\\omega \\mathbf{M^f_\\mu} \\mathbf{h_y} = - \\mathbf{B} ~ \\mathbf{e_x}^{BC}\n",
    "$$\n",
    "\n",
    "$$\n",
    "\\mathbf{M^{cc}_{\\boldsymbol{\\hat{\\sigma}}}} ~ \\mathbf{e_x} - \\mathbf{Div} ~ \\mathbf{h_y} = \\mathbf{0}\n",
    "$$\n",
    "\n",
    "and assemble into a single matrix system\n",
    "\n",
    "$$\n",
    "\\underbrace{\n",
    "    \\begin{bmatrix}\n",
    "        \\mathbf{Grad} & \\imath \\omega \\mathbf{M}^{f2cc}_{\\mu} \\\\[0.3em]\n",
    "        \\mathbf{M}^{cc}_{\\hat{\\sigma}} & \\mathbf{Div}           \\\\[0.3em]\n",
    "    \\end{bmatrix}\n",
    "}_{\\mathbf{A}}\n",
    "\\underbrace{\n",
    "    \\begin{bmatrix}\n",
    "       \\mathbf{e}_x \\\\[0.3em]\n",
    "       \\mathbf{h}_y \\\\[0.3em]\n",
    "    \\end{bmatrix}\n",
    "}_{\\mathbf{u}}\n",
    "=\n",
    "\\underbrace{\n",
    "    \\begin{bmatrix}\n",
    "       - \\mathbf{B}\\mathbf{E}_x^{BC} \\\\[0.3em]\n",
    "       \\boldsymbol{0} \\\\[0.3em]\n",
    "    \\end{bmatrix}\n",
    "}_{\\mathbf{rhs}}\n",
    "$$\n",
    "\n",
    "with \n",
    "\n",
    "- $\\mathbf{e}_x$: Discrete $E_x$ $[\\text{nC} \\times 1]$\n",
    "\n",
    "- $\\mathbf{e}_y$: Dicrete $H_x$ $[(\\text{nC}+1) \\times 1]$\n",
    "\n",
    "- $ \\mathbf{Grad}$: Discrete gradient operator with dirichlet boundary conditions $[\\text{nC} \\times (\\text{nC}+1)]$\n",
    "\n",
    "- $ \\mathbf{Div}$: Discrete divergence operator $[(\\text{nC}+1) \\times \\text{nC}]$\n",
    "\n",
    "- $\\mathbf{M}^{f}_{\\boldsymbol{\\mu}} = \\mathbf{diag}(\\mathbf{Av^{cc2f}}  \\boldsymbol{\\mu})$ $[(\\text{nC}+1) \\times (\\text{nC}+1)]$\n",
    "\n",
    "- $\\mathbf{M}^{cc}_{\\boldsymbol{\\hat{\\sigma}}} = \\mathbf{diag}(\\boldsymbol{\\hat{\\sigma}})$ $[\\text{nC} \\times \\text{nC}]$\n",
    "\n",
    "- $\\mathbf{B} \\mathbf{e_x}^{BC}$ handles the boundary conditions"
   ]
  },
  {
   "cell_type": "markdown",
   "metadata": {},
   "source": [
    "## Now we have all of the pieces\n",
    "\n",
    "Here, lets create a larger mesh, and we can go ahead and asseble the system of equations to solve"
   ]
  },
  {
   "cell_type": "code",
   "execution_count": 44,
   "metadata": {
    "collapsed": true
   },
   "outputs": [],
   "source": [
    "sigma_halfspace = 1e-2\n",
    "freq = 1"
   ]
  },
  {
   "cell_type": "code",
   "execution_count": 45,
   "metadata": {},
   "outputs": [
    {
     "name": "stdout",
     "output_type": "stream",
     "text": [
      "The mesh extends 1.2e+05m, is that far enough? (should be at least 5.0e+03m away)\n"
     ]
    }
   ],
   "source": [
    "cs = 39.  # core cell size\n",
    "npad = 25  # number of padding cells\n",
    "ncz = 100   # number of core cells\n",
    "\n",
    "# define a tensor mesh\n",
    "hz = [(cs, npad, -1.3), (cs, ncz)] \n",
    "mesh = Mesh.TensorMesh([hz], x0='N')  # put the origin at the surface \n",
    "\n",
    "print(\n",
    "    \"The mesh extends {:1.1e}m, is that far enough? (should be at least {:1.1e}m away)\".format(\n",
    "        mesh.hx.sum(),\n",
    "        skin_depth(sigma_halfspace, freq)\n",
    "    )\n",
    ")"
   ]
  },
  {
   "cell_type": "code",
   "execution_count": 46,
   "metadata": {
    "collapsed": true
   },
   "outputs": [],
   "source": [
    "# physical properties\n",
    "sigma = np.ones(mesh.nC)*sigma_halfspace # conductivity values for all cells\n",
    "mu = np.ones(mesh.nC)*mu_0 # magnetic permeability values for all cells\n",
    "epsilon = np.ones(mesh.nC)*epsilon_0 # dielectric constant values for all cells"
   ]
  },
  {
   "cell_type": "code",
   "execution_count": 47,
   "metadata": {
    "collapsed": true
   },
   "outputs": [],
   "source": [
    "# Grad \n",
    "mesh.setCellGradBC([['dirichlet', 'dirichlet']]) # Setup boundary conditions\n",
    "Grad = mesh.cellGrad # Gradient matrix\n",
    "\n",
    "# MfMu\n",
    "Mmu = Utils.sdiag(mesh.aveCC2F * mu) \n",
    "\n",
    "# Mccsigma\n",
    "Msighat = Utils.sdiag(sigmahat) \n",
    "\n",
    "# Div\n",
    "Div = mesh.faceDiv # Divergence matrix\n",
    "\n",
    "# Right Hand Side\n",
    "B = mesh.cellGradBC  # a matrix for boundary conditions\n",
    "Exbc = np.r_[0., 1.] # boundary values for Ex"
   ]
  },
  {
   "cell_type": "code",
   "execution_count": 48,
   "metadata": {
    "collapsed": true
   },
   "outputs": [],
   "source": [
    "# Assemble the matrix\n",
    "\n",
    "# A-matrix\n",
    "A = sp.vstack([\n",
    "    sp.hstack([Grad, 1j*omega*Mmu]), # Top row of A matrix\n",
    "    sp.hstack((Msighat, Div)) # Bottom row of A matrix\n",
    "])\n",
    "\n",
    "# Right-hand side\n",
    "rhs = np.r_[\n",
    "    -B*Exbc, \n",
    "    np.zeros(mesh.nC)\n",
    "] "
   ]
  },
  {
   "cell_type": "code",
   "execution_count": 49,
   "metadata": {},
   "outputs": [
    {
     "name": "stdout",
     "output_type": "stream",
     "text": [
      "CPU times: user 1.65 ms, sys: 990 µs, total: 2.64 ms\n",
      "Wall time: 1.71 ms\n"
     ]
    }
   ],
   "source": [
    "%%time\n",
    "Ainv = Solver(A) # Factorize A matrix\n",
    "sol = Ainv*rhs   # Solve A^-1 rhs = sol\n",
    "Ex = sol[:mesh.nC] # Extract Ex from solution vector u\n",
    "Hy = sol[mesh.nC:mesh.nC+mesh.nN] # Extract Hy from solution vector u"
   ]
  },
  {
   "cell_type": "code",
   "execution_count": 50,
   "metadata": {},
   "outputs": [
    {
     "name": "stdout",
     "output_type": "stream",
     "text": [
      "Impedance: 6.2e-01 + 6.4e-01i\n",
      "or in terms of Amplidude: 8.9e-01 and phase: 45.9 degrees\n"
     ]
    }
   ],
   "source": [
    "Zxy = - 1./Hy[-1] # Impedance at the surface\n",
    "\n",
    "print(\"Impedance: {:1.1e} + {:1.1e}i\".format(Zxy.real, Zxy.imag))\n",
    "print(\n",
    "    \"or in terms of Amplidude: {:1.1e} and phase: {:1.1f} degrees\".format(\n",
    "    np.absolute(Zxy), np.rad2deg(np.arctan(Zxy.imag / Zxy.real))\n",
    "    )\n",
    ")"
   ]
  },
  {
   "cell_type": "code",
   "execution_count": null,
   "metadata": {
    "collapsed": true
   },
   "outputs": [],
   "source": []
  }
 ],
 "metadata": {
  "anaconda-cloud": {},
  "kernelspec": {
   "display_name": "Python [default]",
   "language": "python",
   "name": "python2"
  },
  "language_info": {
   "codemirror_mode": {
    "name": "ipython",
    "version": 2
   },
   "file_extension": ".py",
   "mimetype": "text/x-python",
   "name": "python",
   "nbconvert_exporter": "python",
   "pygments_lexer": "ipython2",
   "version": "2.7.13"
  }
 },
 "nbformat": 4,
 "nbformat_minor": 2
}
